{
 "cells": [
  {
   "cell_type": "code",
   "execution_count": 1,
   "metadata": {},
   "outputs": [],
   "source": [
    "import pandas as pd\n",
    "import numpy as np\n",
    "from sklearn.model_selection import train_test_split\n",
    "\n",
    "from rnanorm import FPKM, TPM\n",
    "\n",
    "from gtfparse import read_gtf\n",
    "import re"
   ]
  },
  {
   "cell_type": "code",
   "execution_count": 3,
   "metadata": {},
   "outputs": [
    {
     "name": "stderr",
     "output_type": "stream",
     "text": [
      "INFO:root:Extracted GTF attributes: ['gene_id', 'gene_type', 'gene_name', 'level', 'tag', 'transcript_id', 'transcript_type', 'transcript_name', 'transcript_support_level', 'havana_transcript', 'exon_number', 'exon_id', 'hgnc_id', 'havana_gene', 'ont', 'protein_id', 'ccdsid', 'artif_dupl']\n"
     ]
    }
   ],
   "source": [
    "df_gtf = read_gtf(\"gencode.v46.basic.annotation.gtf\")\n",
    "\n",
    "# Remove .1, .2, etc. from gene_id\n",
    "def remove_version(s):\n",
    "    return re.sub(r'\\.\\d+$', '', s)\n",
    "\n",
    "gene_ids = df_gtf['gene_id'].to_list()\n",
    "gene_ids = list(map(remove_version, gene_ids))\n",
    "gene_ids = list(set(gene_ids))"
   ]
  },
  {
   "cell_type": "code",
   "execution_count": 5,
   "metadata": {},
   "outputs": [],
   "source": [
    "meta_data = \"/Users/xbh0403/Desktop/CSE_283/BENG-203-Project/datasets/burgos_dbgap/burgos_dbgap_metadata.xlsx\"\n",
    "meta_data = pd.read_excel(meta_data)\n",
    "\n",
    "data = \"/Users/xbh0403/Desktop/CSE_283/BENG-203-Project/datasets/burgos_dbgap/burgos_dbgap_counts.txt\"\n",
    "data = pd.read_csv(data, sep='\\t')\n",
    "data = data.T\n",
    "\n",
    "# keep columns that are in the gene_ids\n",
    "data = data.iloc[:, data.columns.isin(gene_ids)]"
   ]
  },
  {
   "cell_type": "code",
   "execution_count": 7,
   "metadata": {},
   "outputs": [],
   "source": [
    "fpkm = FPKM(gtf=\"gencode.v46.basic.annotation.gtf\").set_output(transform=\"pandas\")\n",
    "fpkm_normed_data = fpkm.fit_transform(data)"
   ]
  },
  {
   "cell_type": "code",
   "execution_count": 11,
   "metadata": {},
   "outputs": [
    {
     "data": {
      "text/html": [
       "<div>\n",
       "<style scoped>\n",
       "    .dataframe tbody tr th:only-of-type {\n",
       "        vertical-align: middle;\n",
       "    }\n",
       "\n",
       "    .dataframe tbody tr th {\n",
       "        vertical-align: top;\n",
       "    }\n",
       "\n",
       "    .dataframe thead th {\n",
       "        text-align: right;\n",
       "    }\n",
       "</style>\n",
       "<table border=\"1\" class=\"dataframe\">\n",
       "  <thead>\n",
       "    <tr style=\"text-align: right;\">\n",
       "      <th></th>\n",
       "      <th>biospecimen_repository_sample_id</th>\n",
       "    </tr>\n",
       "  </thead>\n",
       "  <tbody>\n",
       "    <tr>\n",
       "      <th>0</th>\n",
       "      <td>01_16_CSF</td>\n",
       "    </tr>\n",
       "    <tr>\n",
       "      <th>1</th>\n",
       "      <td>01_16_SER</td>\n",
       "    </tr>\n",
       "    <tr>\n",
       "      <th>2</th>\n",
       "      <td>01_18_CSF</td>\n",
       "    </tr>\n",
       "    <tr>\n",
       "      <th>3</th>\n",
       "      <td>01_18_SER</td>\n",
       "    </tr>\n",
       "    <tr>\n",
       "      <th>4</th>\n",
       "      <td>01_37_CSF</td>\n",
       "    </tr>\n",
       "    <tr>\n",
       "      <th>...</th>\n",
       "      <td>...</td>\n",
       "    </tr>\n",
       "    <tr>\n",
       "      <th>262</th>\n",
       "      <td>99_58_SER</td>\n",
       "    </tr>\n",
       "    <tr>\n",
       "      <th>263</th>\n",
       "      <td>99_60_CSF</td>\n",
       "    </tr>\n",
       "    <tr>\n",
       "      <th>264</th>\n",
       "      <td>99_60_SER</td>\n",
       "    </tr>\n",
       "    <tr>\n",
       "      <th>265</th>\n",
       "      <td>99_64_CSF</td>\n",
       "    </tr>\n",
       "    <tr>\n",
       "      <th>266</th>\n",
       "      <td>99_64_SER</td>\n",
       "    </tr>\n",
       "  </tbody>\n",
       "</table>\n",
       "<p>267 rows × 1 columns</p>\n",
       "</div>"
      ],
      "text/plain": [
       "    biospecimen_repository_sample_id\n",
       "0                          01_16_CSF\n",
       "1                          01_16_SER\n",
       "2                          01_18_CSF\n",
       "3                          01_18_SER\n",
       "4                          01_37_CSF\n",
       "..                               ...\n",
       "262                        99_58_SER\n",
       "263                        99_60_CSF\n",
       "264                        99_60_SER\n",
       "265                        99_64_CSF\n",
       "266                        99_64_SER\n",
       "\n",
       "[267 rows x 1 columns]"
      ]
     },
     "execution_count": 11,
     "metadata": {},
     "output_type": "execute_result"
    }
   ],
   "source": [
    "meta_data[[\"biospecimen_repository_sample_id\"]]"
   ]
  }
 ],
 "metadata": {
  "kernelspec": {
   "display_name": "CSE_283",
   "language": "python",
   "name": "python3"
  },
  "language_info": {
   "codemirror_mode": {
    "name": "ipython",
    "version": 3
   },
   "file_extension": ".py",
   "mimetype": "text/x-python",
   "name": "python",
   "nbconvert_exporter": "python",
   "pygments_lexer": "ipython3",
   "version": "3.11.8"
  }
 },
 "nbformat": 4,
 "nbformat_minor": 2
}
