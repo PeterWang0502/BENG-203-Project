{
 "cells": [
  {
   "cell_type": "code",
   "execution_count": 1,
   "metadata": {},
   "outputs": [],
   "source": [
    "import pandas as pd\n",
    "import numpy as np\n",
    "from sklearn.model_selection import train_test_split\n",
    "\n",
    "from rnanorm import FPKM, TPM\n",
    "\n",
    "from gtfparse import read_gtf\n",
    "import re"
   ]
  },
  {
   "cell_type": "code",
   "execution_count": 2,
   "metadata": {},
   "outputs": [
    {
     "name": "stderr",
     "output_type": "stream",
     "text": [
      "INFO:root:Extracted GTF attributes: ['gene_id', 'gene_type', 'gene_name', 'level', 'tag', 'transcript_id', 'transcript_type', 'transcript_name', 'transcript_support_level', 'havana_transcript', 'exon_number', 'exon_id', 'hgnc_id', 'havana_gene', 'ont', 'protein_id', 'ccdsid', 'artif_dupl']\n"
     ]
    }
   ],
   "source": [
    "df_gtf = read_gtf(\"../datasets/gencode.v46.basic.annotation.gtf\")\n",
    "\n",
    "# Remove .1, .2, etc. from gene_id\n",
    "def remove_version(s):\n",
    "    return re.sub(r'\\.\\d+$', '', s)\n",
    "\n",
    "gene_ids = df_gtf['gene_id'].to_list()\n",
    "gene_ids = list(map(remove_version, gene_ids))\n",
    "gene_ids = list(set(gene_ids))"
   ]
  },
  {
   "cell_type": "code",
   "execution_count": 3,
   "metadata": {},
   "outputs": [],
   "source": [
    "def read_datasets(data_path: str, meta_path: str, gene_ids: list):\n",
    "    meta_data = pd.read_excel(meta_path)\n",
    "    data = pd.read_csv(data_path, sep='\\t')\n",
    "    data = data.T\n",
    "    data = data.iloc[:, data.columns.isin(gene_ids)]\n",
    "    return data, meta_data"
   ]
  },
  {
   "cell_type": "code",
   "execution_count": 4,
   "metadata": {},
   "outputs": [],
   "source": [
    "meta_burgos_path = \"../datasets/datasets_raw/burgos_dbgap/burgos_dbgap_metadata.xlsx\"\n",
    "data_burgos_path = \"../datasets/datasets_raw/burgos_dbgap/burgos_dbgap_counts.txt\"\n",
    "data_burgos_fpkm_path = \"../datasets_processed/fpkm/burgos_dbgap_fpkm.txt\"\n",
    "data_burgos_tpm_path = \"../datasets_processed/tpm/burgos_dbgap_tpm.txt\"\n",
    "data_burgos, meta_burgos = read_datasets(data_burgos_path, meta_burgos_path, gene_ids)\n",
    "\n",
    "meta_silver_path = \"../datasets/datasets_raw/silver_seq/silver_seq_metadata.xlsx\"\n",
    "data_silver_path = \"../datasets/datasets_raw/silver_seq/silver_seq_counts.txt\"\n",
    "data_silver_fpkm_path = \"../datasets_processed/fpkm/silver_seq_fpkm.txt\"\n",
    "data_silver_tpm_path = \"../datasets_processed/tpm/silver_seq_tpm.txt\"\n",
    "data_silver, meta_silver = read_datasets(data_silver_path, meta_silver_path, gene_ids)\n",
    "\n",
    "meta_toden_path = \"../datasets/datasets_raw/toden/toden_metadata.xlsx\"\n",
    "data_toden_path = \"../datasets/datasets_raw/toden/toden_counts.txt\"\n",
    "data_toden_fpkm_path = \"../datasets_processed/fpkm/toden_fpkm.txt\"\n",
    "data_toden_tpm_path = \"../datasets_processed/tpm/toden_tpm.txt\"\n",
    "data_toden, meta_toden = read_datasets(data_toden_path, meta_toden_path, gene_ids)"
   ]
  },
  {
   "cell_type": "code",
   "execution_count": 5,
   "metadata": {},
   "outputs": [],
   "source": [
    "def normalize(data: pd.DataFrame, method: str, save_path: str|None=None):\n",
    "    if method == \"fpkm\":\n",
    "        fpkm = FPKM(gtf=\"../datasets/gencode.v46.basic.annotation.gtf\").set_output(transform=\"pandas\")\n",
    "        df_transformed = fpkm.fit_transform(data)\n",
    "    elif method == \"tpm\":\n",
    "        tpm = TPM(gtf=\"../datasets/gencode.v46.basic.annotation.gtf\").set_output(transform=\"pandas\")\n",
    "        df_transformed = tpm.fit_transform(data)\n",
    "    else:\n",
    "        raise ValueError(\"Invalid method\")\n",
    "    \n",
    "    if save_path is not None:\n",
    "        df_transformed.to_csv(save_path, sep='\\t')\n",
    "\n",
    "    return df_transformed"
   ]
  },
  {
   "cell_type": "code",
   "execution_count": 14,
   "metadata": {},
   "outputs": [],
   "source": [
    "df_transformed_burgos_fpkm = normalize(data_burgos, \"fpkm\", data_burgos_fpkm_path)\n",
    "df_transformed_burgos_tpm = normalize(data_burgos, \"tpm\", data_burgos_tpm_path)\n",
    "\n",
    "df_transformed_silver_fpkm = normalize(data_silver, \"fpkm\", data_silver_fpkm_path)\n",
    "df_transformed_silver_tpm = normalize(data_silver, \"tpm\", data_silver_tpm_path)\n",
    "\n",
    "df_transformed_toden_fpkm = normalize(data_toden, \"fpkm\", data_toden_fpkm_path)\n",
    "df_transformed_toden_tpm = normalize(data_toden, \"tpm\", data_toden_tpm_path)"
   ]
  },
  {
   "cell_type": "code",
   "execution_count": 16,
   "metadata": {},
   "outputs": [],
   "source": [
    "import scanpy as sc"
   ]
  },
  {
   "cell_type": "code",
   "execution_count": 34,
   "metadata": {},
   "outputs": [],
   "source": [
    "def transform_h5ad(data: pd.DataFrame, meta: pd.DataFrame, save_path: str):\n",
    "    adata = sc.AnnData(data)\n",
    "    adata.obs = meta\n",
    "    adata.write(save_path)\n",
    "    return adata"
   ]
  },
  {
   "cell_type": "code",
   "execution_count": 43,
   "metadata": {},
   "outputs": [
    {
     "name": "stderr",
     "output_type": "stream",
     "text": [
      "... storing 'submitted_subject_id' as categorical\n",
      "... storing 'ApoE' as categorical\n",
      "... storing 'ClinicalDXSummary' as categorical\n",
      "... storing 'Control' as categorical\n",
      "... storing 'AD' as categorical\n",
      "... storing 'PD' as categorical\n",
      "... storing 'DLB' as categorical\n",
      "... storing 'VAD' as categorical\n",
      "... storing 'PSP' as categorical\n",
      "... storing 'Plaque.density' as categorical\n",
      "... storing 'Braak.score' as categorical\n",
      "... storing 'NIA.R' as categorical\n",
      "... storing 'LB.Stage' as categorical\n",
      "... storing 'sn_depigmentation' as categorical\n",
      "... storing 'apoe_carrier' as categorical\n",
      "... storing 'apoe_dose' as categorical\n",
      "... storing 'donor_id_alias' as categorical\n",
      "... storing 'donor_status_score' as categorical\n",
      "... storing 'donor_group' as categorical\n",
      "... storing 'apoe_carrier' as categorical\n",
      "... storing 'apoe_dose' as categorical\n",
      "... storing 'Tissue' as categorical\n",
      "... storing 'Ethnicity' as categorical\n",
      "... storing 'Gender' as categorical\n",
      "... storing 'Center' as categorical\n",
      "... storing 'Disease' as categorical\n",
      "... storing 'Apoe.status' as categorical\n",
      "... storing 'apoe_carrier' as categorical\n",
      "... storing 'apoe_dose' as categorical\n"
     ]
    }
   ],
   "source": [
    "assert (df_transformed_burgos_tpm.index == meta_burgos['biospecimen_repository_sample_id'].to_list()).all()\n",
    "assert (df_transformed_silver_tpm.index == meta_silver['sample_id_alias'].to_list()).all()\n",
    "assert (df_transformed_toden_tpm.index == meta_toden['Run'].to_list()).all()\n",
    "\n",
    "adata_burgos_fpkm = transform_h5ad(df_transformed_burgos_fpkm, meta_burgos, \"../datasets_h5ad/fpkm/burgos_dbgap_fpkm.h5ad\")\n",
    "adata_burgos_tpm = transform_h5ad(df_transformed_burgos_tpm, meta_burgos, \"../datasets_h5ad/tpm/burgos_dbgap_tpm.h5ad\")\n",
    "\n",
    "adata_silver_fpkm = transform_h5ad(df_transformed_silver_fpkm, meta_silver, \"../datasets_h5ad/fpkm/silver_seq_fpkm.h5ad\")\n",
    "adata_silver_tpm = transform_h5ad(df_transformed_silver_tpm, meta_silver, \"../datasets_h5ad/tpm/silver_seq_tpm.h5ad\")\n",
    "\n",
    "adata_toden_fpkm = transform_h5ad(df_transformed_toden_fpkm, meta_toden, \"../datasets_h5ad/fpkm/toden_fpkm.h5ad\")\n",
    "adata_toden_tpm = transform_h5ad(df_transformed_toden_tpm, meta_toden, \"../datasets_h5ad/tpm/toden_tpm.h5ad\")"
   ]
  },
  {
   "cell_type": "markdown",
   "metadata": {},
   "source": [
    "## TODO: Make a combined h5ad for all the datasets"
   ]
  },
  {
   "cell_type": "code",
   "execution_count": null,
   "metadata": {},
   "outputs": [],
   "source": [
    "#TODO: Concat dataframes then concat metadata"
   ]
  }
 ],
 "metadata": {
  "kernelspec": {
   "display_name": "CSE_283",
   "language": "python",
   "name": "python3"
  },
  "language_info": {
   "codemirror_mode": {
    "name": "ipython",
    "version": 3
   },
   "file_extension": ".py",
   "mimetype": "text/x-python",
   "name": "python",
   "nbconvert_exporter": "python",
   "pygments_lexer": "ipython3",
   "version": "3.11.8"
  }
 },
 "nbformat": 4,
 "nbformat_minor": 2
}
